# @title <h1>🎙️ Voice Extractor Pro - Advanced Audio Processing Tool</h1> { display-mode: "form" }
# @markdown <p style="text-align: center; color: #666; font-size: 14px;">Extract clean voice segments from multi-speaker recordings with AI</p>

# 1. STRIPPED-DOWN IMPORTS
import ipywidgets as widgets
from IPython.display import display, HTML, Audio, Javascript, clear_output
import threading
from pathlib import Path

# --- REFINEMENT: Use a threading.Event for thread-safe state management ---
# This is cleaner and more reliable than using global boolean flags.
setup_done_event = threading.Event()
# A list to hold a potential error from the background thread.
setup_error_container = []


# === BACKGROUND SETUP (Now with final refinements) ===
def _background_setup(ui_log_widget):
    """
    Runs all heavyweight tasks in a background thread, capturing any errors
    and using thread-safe events to signal completion.
    """
    # Imports are local to this function to avoid initial load cost.
    import subprocess
    import sys
    import os
    import traceback
    from google.colab import drive

    try:
        with ui_log_widget:
            clear_output(wait=True) # Use wait=True for smoother updates
            print("🚀 Starting background setup...")
            sys.stdout.flush()

            # Clone repo if needed
            if not os.path.exists('Voice_Extractor'):
                print("📥 Cloning Voice Extractor repository...")
                sys.stdout.flush()
                subprocess.run(['git', 'clone', '-q', 'https://github.com/ReisCook/Voice_Extractor.git'], check=True, capture_output=True)

            print("📦 Upgrading pip and installing dependencies...")
            sys.stdout.flush()

            # --- REFINEMENT: Atomic and noise-free pip install ---
            # 1. Upgrade pip and wheel quietly.
            subprocess.run(
                [sys.executable, "-m", "pip", "install", "--upgrade", "pip", "wheel", "-q", "--progress-bar", "off"],
                check=True, capture_output=True
            )
            # 2. Install requirements quietly and preferring pre-compiled binaries.
            cmd = [sys.executable, "-m", "pip", "install", "-q", "-r", "Voice_Extractor/requirements.txt", "--prefer-binary", "--progress-bar", "off"]
            process = subprocess.Popen(cmd, stdout=subprocess.PIPE, stderr=subprocess.STDOUT, text=True, bufsize=1)

            # --- REFINEMENT: Real-time, flushed log streaming ---
            for line in iter(process.stdout.readline, ''):
                print(line, end='')
                sys.stdout.flush() # Guarantees immediate output
            process.wait()
            if process.returncode != 0:
                raise subprocess.CalledProcessError(process.returncode, cmd)

            print("\n✅ Dependencies installed.")
            sys.stdout.flush()

            # Mount Google Drive
            if not os.path.exists('/content/drive'):
                print("\n📁 Mounting Google Drive... Please follow the authentication prompt in the output.")
                sys.stdout.flush()
                drive.mount('/content/drive')
            print("✅ Google Drive mounted.")
            sys.stdout.flush()

            print("\n🎉 Environment is ready!")
            sys.stdout.flush()

    except Exception as e:
        # Capture the full exception traceback into the shared container.
        setup_error_container.append(traceback.format_exc())
        with ui_log_widget:
            # Display a clear error message in the log panel.
            error_html = f'<div class="error-message"><h3>❌ Setup Failed</h3><p>Could not initialize. The error details are below.</p><pre>{setup_error_container[0]}</pre></div>'
            display(HTML(error_html))
    finally:
        # Signal that the setup process has finished, regardless of outcome.
        setup_done_event.set()


# === STYLING (No changes needed) ===
def inject_custom_css():
    """Inject custom CSS for modern UI"""
    css = """
    <style>
    /* Modern UI Theme */
    .section-header {
        background: linear-gradient(135deg, #667eea 0%, #764ba2 100%);
        color: white;
        padding: 15px 20px;
        border-radius: 10px;
        margin: 20px 0 15px 0;
        font-weight: 600;
        font-size: 18px;
    }
    
    .card {
        background: white;
        border-radius: 10px;
        padding: 20px;
        margin: 15px 0;
        box-shadow: 0 1px 3px rgba(0,0,0,0.12);
        border: 1px solid #e2e8f0;
    }
    
    .file-input-group {
        display: flex;
        gap: 10px;
        align-items: center;
        margin: 10px 0;
    }
    
    .file-input-group input {
        flex: 1;
        padding: 8px 12px;
        border: 1px solid #cbd5e0;
        border-radius: 6px;
        font-family: monospace;
        font-size: 13px;
    }
    
    .btn-primary {
        background: linear-gradient(135deg, #667eea 0%, #764ba2 100%);
        color: white;
        border: none;
        padding: 12px 30px;
        border-radius: 8px;
        font-weight: 600;
        cursor: pointer;
        transition: all 0.3s ease;
    }
    
    .btn-primary:hover:not(:disabled) {
        transform: translateY(-2px);
        box-shadow: 0 5px 15px rgba(102, 126, 234, 0.4);
    }
    
    .btn-primary:disabled {
        opacity: 0.6;
        cursor: not-allowed;
    }
    
    .error-message {
        background: #fee;
        border-left: 4px solid #f56565;
        padding: 15px;
        border-radius: 6px;
        margin: 10px 0;
    }
    
    .success-message {
        background: #e6fffa;
        border-left: 4px solid #38b2ac;
        padding: 15px;
        border-radius: 6px;
        margin: 10px 0;
    }
    
    .warning-message {
        background: #fffaf0;
        border-left: 4px solid #ed8936;
        padding: 15px;
        border-radius: 6px;
        margin: 10px 0;
    }
    
    .progress-step {
        display: flex;
        align-items: center;
        padding: 12px;
        margin: 5px 0;
        border-radius: 8px;
        background: #f8f9fa;
    }
    
    .progress-step.active {
        background: #e9ecff;
        border-left: 4px solid #667eea;
    }
    
    .progress-step.completed {
        background: #e6fffa;
        border-left: 4px solid #38b2ac;
    }
    
    .tab-container {
        display: flex;
        gap: 10px;
        margin-bottom: 20px;
        border-bottom: 2px solid #e2e8f0;
    }
    
    .tab {
        padding: 10px 20px;
        cursor: pointer;
        border-bottom: 3px solid transparent;
        transition: all 0.3s ease;
        font-weight: 500;
    }
    
    .tab:hover {
        color: #667eea;
    }
    
    .tab.active {
        color: #667eea;
        border-bottom-color: #667eea;
    }
    
    .tooltip {
        position: relative;
        display: inline-block;
        margin-left: 5px;
        color: #718096;
        cursor: help;
    }
    
    .tooltip .tooltiptext {
        visibility: hidden;
        width: 250px;
        background-color: #2d3748;
        color: #fff;
        text-align: left;
        border-radius: 6px;
        padding: 10px;
        position: absolute;
        z-index: 1;
        bottom: 125%;
        left: 50%;
        margin-left: -125px;
        opacity: 0;
        transition: opacity 0.3s;
        font-size: 12px;
    }
    
    .tooltip:hover .tooltiptext {
        visibility: visible;
        opacity: 1;
    }
    
    /* Hide Jupyter default styles */
    .jupyter-widgets-view { margin: 0 !important; }
    .widget-label { display: none !important; }
    </style>
    """
    display(HTML(css))


# === MAIN UI CLASS (Now using event-based activation) ===
class VoiceExtractorUI:
    def __init__(self):
        self.hf_token = None
        self.is_processing = False
        self.start_time = None
        self.process = None
        
        # Build the disabled UI first
        self.setup_ui()
        
        # Start a new thread that waits for the setup to finish, then activates the UI.
        # This avoids polling and is more efficient.
        threading.Thread(target=self._wait_for_setup_and_activate, daemon=True).start()

    def _wait_for_setup_and_activate(self):
        """Waits for the setup_done_event and then updates the UI from the main thread."""
        setup_done_event.wait() # This blocks THIS thread, not the UI thread.

        if setup_error_container:
            # Failure case
            self.validation_msg.value = (
                '<div class="error-message">❌ Setup failed. See log for details. Please restart the runtime.</div>'
            )
            self.auth_btn.disabled = True
            self.start_btn.disabled = True
        else:
            # Success case
            self.validation_msg.value = (
                '<div class="success-message">✅ Environment is ready! Please authenticate and provide file paths.</div>'
            )
            self.auth_btn.disabled = False
            self.setup_log_panel.layout.display = 'none' # Hide setup log on success
            self._validate_inputs()

    def setup_ui(self):
        """Creates the entire UI, with key buttons disabled initially."""
        inject_custom_css()
        
        # Header
        header = widgets.HTML("""
        <div style="text-align: center; padding: 20px; background: linear-gradient(135deg, #667eea 0%, #764ba2 100%); 
                    color: white; border-radius: 15px; margin-bottom: 30px;">
            <h1 style="margin: 0; font-size: 36px;">🎙️ Voice Extractor Pro</h1>
            <p style="margin: 10px 0 0 0; opacity: 0.9;">Extract clean voice segments from multi-speaker recordings</p>
        </div>
        """)
        
        self.tab_widget = self._create_tabs()
        self.progress_panel = self._create_progress_panel()
        
        # This is the setup log that the background thread will write to
        self.setup_log_output = widgets.Output()
        
        self.setup_log_panel = widgets.VBox([
            widgets.HTML('<div class="section-header">🔧 Environment Setup Log</div>'),
            widgets.HTML('<div class="card" style="padding: 15px;">'),
            self.setup_log_output,
            widgets.HTML('</div>')
        ])

        self.main_container = widgets.VBox([
            header,
            self.tab_widget,
            self.setup_log_panel, # Show the setup log initially
            self.progress_panel
        ])
        
        # Display an initial "waiting" message before the thread updates it.
        with self.setup_log_output:
            print("⏳ Initializing... Waiting for background setup process to start.")
            
        display(self.main_container)

    def _create_tabs(self):
        """Create tabbed interface"""
        tab_output = widgets.Output()
        
        with tab_output:
            display(HTML("""
            <div class="tab-container">
                <div class="tab active" onclick="showTab('setup')">🚀 Setup</div>
                <div class="tab" onclick="showTab('settings')">⚙️ Settings</div>
                <div class="tab" onclick="showTab('results')">📊 Results</div>
            </div>
            """))
        
        self.setup_tab = self._create_setup_tab()
        self.settings_tab = self._create_settings_tab()
        self.results_tab = self._create_results_tab()
        
        self.tab_contents = widgets.VBox([self.setup_tab, self.settings_tab, self.results_tab])
        
        self.settings_tab.layout.display = 'none'
        self.results_tab.layout.display = 'none'
        
        display(Javascript("""
        window.showTab = function(tabName) {
            google.colab.kernel.invokeFunction('switch_tab', [tabName], {});
            document.querySelectorAll('.tab').forEach(tab => {
                tab.classList.remove('active');
                if (tab.textContent.toLowerCase().includes(tabName.toLowerCase()) || 
                    (tabName === 'setup' && tab.textContent.includes('Setup'))) {
                    tab.classList.add('active');
                }
            });
        }
        """))
        
        from google.colab import output
        output.register_callback('switch_tab', self._switch_tab)
        
        return widgets.VBox([tab_output, self.tab_contents])
    
    def _switch_tab(self, tab_name):
        """Switch between tabs"""
        self.setup_tab.layout.display = 'none'
        self.settings_tab.layout.display = 'none'
        self.results_tab.layout.display = 'none'
        
        if tab_name == 'setup': self.setup_tab.layout.display = 'block'
        elif tab_name == 'settings': self.settings_tab.layout.display = 'block'
        elif tab_name == 'results': self.results_tab.layout.display = 'block'
    
    def _create_setup_tab(self):
        """Create simplified setup tab with buttons disabled initially."""
        self.hf_token_input = widgets.Password(placeholder='hf_...', layout=widgets.Layout(width='400px'))
        self.auth_btn = widgets.Button(description='🔐 Authenticate', button_style='primary', layout=widgets.Layout(width='150px'), disabled=True)
        self.auth_btn.on_click(self._authenticate)
        self.auth_status = widgets.HTML()
        
        self.input_audio_text = widgets.Text(placeholder='/content/drive/MyDrive/audio.mp3', layout=widgets.Layout(width='100%'))
        self.reference_audio_text = widgets.Text(placeholder='/content/drive/MyDrive/reference.wav', layout=widgets.Layout(width='100%'))
        self.target_name_input = widgets.Text(placeholder='e.g., JohnDoe', layout=widgets.Layout(width='300px'))
        self.output_dir_text = widgets.Text(value='/content/drive/MyDrive/VoiceExtractor_Results', layout=widgets.Layout(width='100%'))

        # Add observers to trigger validation
        self.input_audio_text.observe(lambda change: self._validate_inputs(), names='value')
        self.reference_audio_text.observe(lambda change: self._validate_inputs(), names='value')
        self.target_name_input.observe(lambda change: self._validate_inputs(), names='value')
        
        return widgets.VBox([
            widgets.HTML('<div class="section-header">🔐 Authentication</div>'),
            widgets.HTML('<div class="card">'),
            widgets.HTML('<p>Enter your HuggingFace token to access required models:</p>'),
            widgets.HBox([self.hf_token_input, self.auth_btn]),
            self.auth_status,
            widgets.HTML('<p style="font-size: 12px; color: #666; margin-top: 10px;">Need a token? <a href="https://huggingface.co/settings/tokens" target="_blank">Create one here</a></p>'),
            widgets.HTML('</div>'),
            
            widgets.HTML('<div class="section-header">📂 Input Files</div>'),
            widgets.HTML('<div class="card">'),
            widgets.HTML('<h4>🎵 Audio File to Process</h4><p style="font-size: 12px; color: #666; margin-bottom: 10px;">Enter the full path to your audio file</p>'),
            self.input_audio_text,
            widgets.HTML('</div>'),
            
            widgets.HTML('<div class="card">'),
            widgets.HTML('<h4>🎤 Reference Audio</h4><p style="font-size: 12px; color: #666; margin-bottom: 10px;">5-30 seconds of clean audio with ONLY the target speaker</p>'),
            self.reference_audio_text,
            widgets.HTML('</div>'),
            
            widgets.HTML('<div class="section-header">👤 Target Information</div>'),
            widgets.HTML('<div class="card"><h4>Speaker Name</h4>'),
            self.target_name_input,
            widgets.HTML('</div>'),
            
            widgets.HTML('<div class="section-header">💾 Output Location</div>'),
            widgets.HTML('<div class="card">'),
            self.output_dir_text,
            widgets.HTML('</div>'),
            
            self._create_start_button()
        ])
        
    def _create_settings_tab(self):
        """Create simplified settings tab"""
        self.sample_rate = widgets.Dropdown(options=[16000, 22050, 24000, 44100, 48000], value=24000, layout=widgets.Layout(width='200px'))
        self.whisper_model = widgets.Dropdown(options=['tiny', 'base', 'small', 'medium', 'large', 'large-v2', 'large-v3'], value='large-v3', layout=widgets.Layout(width='200px'))
        self.language = widgets.Text(value='en', placeholder='en, es, fr, etc.', layout=widgets.Layout(width='100px'))
        self.skip_bandit = widgets.Checkbox(value=True, description='Skip Bandit-v2 Vocal Separation (recommended for Colab)', indent=False)
        self.min_duration = widgets.FloatSlider(value=1.0, min=0.5, max=10.0, step=0.1, description='', layout=widgets.Layout(width='300px'))
        self.verification_threshold = widgets.FloatSlider(value=0.7, min=0.0, max=1.0, step=0.01, description='', layout=widgets.Layout(width='300px'))
        self.dry_run = widgets.Checkbox(value=False, description='Dry run (60s only)', indent=False)
        self.debug = widgets.Checkbox(value=False, description='Debug logging', indent=False)
        
        return widgets.VBox([
            widgets.HTML('<div class="section-header">🎛️ Audio Settings</div>'),
            widgets.HTML('<div class="card">'),
            widgets.HBox([
                widgets.VBox([widgets.HTML('<b>Output Sample Rate</b>'), self.sample_rate]),
                widgets.VBox([widgets.HTML('<b>Transcription Model</b>'), self.whisper_model]),
                widgets.VBox([widgets.HTML('<b>Language</b>'), self.language])
            ]),
            widgets.HTML('</div>'),
            
            widgets.HTML('<div class="section-header">🚀 Performance</div>'),
            widgets.HTML('<div class="card">'),
            self.skip_bandit,
            widgets.HTML('<div class="warning-message" style="margin-top: 10px;">⚠️ Bandit-v2 uses significant memory. Keep this enabled for Colab.</div>'),
            widgets.HTML('</div>'),
            
            widgets.HTML('<div class="section-header">🎯 Advanced Options</div>'),
            widgets.HTML('<div class="card">'),
            self._create_param_row('Min Duration (s)', self.min_duration, 'Minimum segment length to keep'),
            self._create_param_row('Verification Threshold', self.verification_threshold, 'Speaker verification confidence (0.7 = 70%)'),
            widgets.HTML('<div style="margin-top: 15px;">'),
            self.dry_run, self.debug,
            widgets.HTML('</div></div>')
        ])
    
    def _create_results_tab(self):
        """Create results tab"""
        self.results_output = widgets.Output()
        return widgets.VBox([widgets.HTML('<div class="section-header">📊 Processing Results</div>'), self.results_output])
    
    def _create_param_row(self, label, widget, tooltip):
        """Helper to create a labeled row with a tooltip."""
        return widgets.HBox([
            widgets.HTML(f'<div style="width: 200px;"><b>{label}</b></div>'),
            widget,
            widgets.HTML(f'<span class="tooltip">ℹ️<span class="tooltiptext">{tooltip}</span></span>')
        ])
    
    def _create_progress_panel(self):
        """Create progress tracking panel"""
        self.progress_output = widgets.Output()
        self.log_output = widgets.Output(layout={'height': '300px', 'overflow_y': 'scroll'})
        panel = widgets.VBox([
            widgets.HTML('<div class="section-header">📈 Progress</div>'),
            self.progress_output,
            widgets.HTML('<div class="section-header">📜 Processing Log</div>'),
            widgets.HTML('<div class="card">'),
            self.log_output,
            widgets.HTML('</div>')
        ])
        panel.layout.display = 'none' # Initially hidden
        return panel
    
    def _create_start_button(self):
        """Create the main start button, disabled initially."""
        self.start_btn = widgets.Button(description='🚀 Start Extraction', button_style='success', layout=widgets.Layout(width='200px', height='40px'), disabled=True)
        self.start_btn.on_click(self._start_extraction)
        self.validation_msg = widgets.HTML()
        
        # This message will be updated by the setup watcher thread.
        self.validation_msg.value = '<div class="warning-message">⏳ Initializing...</div>'
        
        return widgets.VBox([
            widgets.HBox([self.start_btn], layout=widgets.Layout(justify_content='center')),
            self.validation_msg
        ])
    
    def _authenticate(self, b):
        """Handle HuggingFace authentication with lazy import."""
        from huggingface_hub import login
        token = self.hf_token_input.value.strip()
        if not token:
            self.auth_status.value = '<p style="color: red;">Please enter a token</p>'
            return
        try:
            login(token=token, add_to_git_credential=False)
            self.hf_token = token
            self.auth_status.value = '<p style="color: green;">✅ Authentication successful!</p>'
            self._validate_inputs()
        except Exception as e:
            self.auth_status.value = f'<p style="color: red;">❌ Authentication failed: {e}</p>'
    
    def _validate_inputs(self):
        """Validate all required inputs, only if setup is ready."""
        if not setup_done_event.is_set() or setup_error_container:
            return

        from pathlib import Path
        self.input_audio = self.input_audio_text.value.strip()
        self.reference_audio = self.reference_audio_text.value.strip()
        self.target_name = self.target_name_input.value.strip()
        self.output_dir = self.output_dir_text.value.strip()
        
        errors = []
        if not self.hf_token: errors.append("HuggingFace authentication required")
        if not self.input_audio: errors.append("Input audio file path required")
        elif not Path(self.input_audio).exists(): errors.append("Input audio file not found")
        if not self.reference_audio: errors.append("Reference audio file path required")
        elif not Path(self.reference_audio).exists(): errors.append("Reference audio file not found")
        if not self.target_name: errors.append("Target speaker name required")
        if not self.output_dir: errors.append("Output directory required")
        
        if errors:
            self.validation_msg.value = f'<div class="error-message">❌ {\"<br>\".join(errors)}</div>'
            self.start_btn.disabled = True
        else:
            self.validation_msg.value = '<div class="success-message">✅ All inputs valid! Ready to start.</div>'
            self.start_btn.disabled = False
    
    def _start_extraction(self, b):
        """Start the extraction process"""
        if self.is_processing: return
        self.is_processing = True
        import time
        self.start_time = time.time()
        self.start_btn.disabled = True
        self.start_btn.description = '🔄 Processing...'
        self.progress_panel.layout.display = 'block'
        with self.log_output: clear_output()
        with self.results_output: clear_output()
        
        # Run the main process in another thread so the UI can still update logs.
        threading.Thread(target=self._run_extraction_process).start()

    def _run_extraction_process(self):
        """The actual subprocess call for extraction."""
        import subprocess
        try:
            cmd = [
                'python', 'Voice_Extractor/run_extractor.py',
                '--input-audio', self.input_audio, '--reference-audio', self.reference_audio,
                '--target-name', self.target_name, '--output-base-dir', self.output_dir,
                '--token', self.hf_token, '--output-sr', str(self.sample_rate.value),
                '--whisper-model', self.whisper_model.value, '--language', self.language.value,
                '--min-duration', str(self.min_duration.value), '--verification-threshold', str(self.verification_threshold.value),
            ]
            if self.skip_bandit.value: cmd.append('--skip-bandit')
            if self.dry_run.value: cmd.append('--dry-run')
            if self.debug.value: cmd.append('--debug')

            self.process = subprocess.Popen(cmd, stdout=subprocess.PIPE, stderr=subprocess.STDOUT, text=True, bufsize=1)
            with self.log_output:
                for line in self.process.stdout:
                    print(line, end='')
            self.process.wait()
            if self.process.returncode == 0:
                self._show_results()
            else:
                self._handle_error(f"Process failed with exit code {self.process.returncode}")
        except Exception as e:
            self._handle_error(str(e))
        finally:
            self.is_processing = False
            self.start_btn.disabled = False
            self.start_btn.description = '🚀 Start Extraction'
            self._validate_inputs()
            
    def _show_results(self):
        """Display extraction results with lazy imports."""
        import pandas as pd
        from datetime import datetime
        display(Javascript("showTab('results')"))
        with self.results_output:
            clear_output()
            run_name = f"{self.target_name}_{Path(self.input_audio).stem}_extracted"
            output_path = Path(self.output_dir) / run_name
            if not output_path.exists():
                display(HTML('<div class="error-message">Output directory not found</div>'))
                return
            display(HTML('<div class="success-message">✅ Extraction completed successfully!</div>'))
            # ... (Rest of your results logic: stats, audio player, transcript, download button)
            self._create_download_package(output_path)
            
    def _create_download_package(self, output_path):
        """Create ZIP file for download with lazy imports."""
        import zipfile
        from google.colab import files
        from datetime import datetime
        with self.results_output:
            display(HTML('<div class="card"><h3>📦 Download Package</h3>'))
            zip_name = f"{self.target_name}_extract_{datetime.now().strftime('%Y%m%d_%H%M')}.zip"
            zip_path = Path(self.output_dir) / zip_name
            with zipfile.ZipFile(zip_path, 'w', zipfile.ZIP_DEFLATED) as zf:
                for f in output_path.rglob('*'):
                    if f.is_file(): zf.write(f, f.relative_to(output_path.parent))
            
            download_btn = widgets.Button(description='⬇️ Download Results', button_style='success', layout=widgets.Layout(width='200px'))
            def download_results(b): files.download(str(zip_path))
            download_btn.on_click(download_results)
            display(download_btn)
            display(HTML(f'<p>Package size: {zip_path.stat().st_size / 1e6:.1f} MB</p></div>'))

    def _handle_error(self, error_msg):
        """Handle and display extraction errors."""
        with self.results_output:
            clear_output()
            display(HTML(f'<div class="error-message"><h3>❌ Extraction Failed</h3><p>{error_msg}</p></div>'))


# === MAIN EXECUTION (Starts the async process) ===

# 1. Create the UI instance, which draws the disabled interface immediately.
ui = VoiceExtractorUI()

# 2. Start the robust, background setup thread. It's a daemon so it won't block exit.
threading.Thread(target=_background_setup, args=(ui.setup_log_output,), daemon=True).start()

# 3. Display instructions immediately.
display(HTML("""
<div style="margin-top: 30px; padding: 20px; background: #f0f7ff; border-radius: 10px; border-left: 4px solid #4299e1;">
    <h3>📖 Quick Start Guide</h3>
    <ol>
        <li><b>Wait for Setup:</b> The environment is preparing. See the log above for real-time progress or errors.</li>
        <li><b>Activate:</b> Once ready, the controls will be enabled.</li>
        <li><b>Authenticate & Configure:</b> Enter your HuggingFace token and provide the full paths to your audio files.</li>
        <li><b>Process:</b> Click "Start Extraction" once the button is active.</li>
    </ol>
</div>
"""))
